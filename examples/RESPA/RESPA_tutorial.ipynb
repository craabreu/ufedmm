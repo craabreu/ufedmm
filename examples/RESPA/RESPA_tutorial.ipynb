{
 "cells": [
  {
   "cell_type": "markdown",
   "metadata": {},
   "source": [
    "## RESPA Tutorial\n",
    "\n",
    "This is a tutorial for setting up a simulation with multiple time-scale integration.\n",
    "\n",
    "#### Our goal:\n",
    "\n",
    "Integrate equations of motion combined with massive Nosé-Hoover chain thermostats and the following time step sizes:\n",
    "\n",
    "* Bond and angle forces: 0.2 fs\n",
    "* Torsion forces, including 1-4 non-bonded exceptions: 1 fs\n",
    "* Non-bonded forces: 4 fs\n",
    "\n",
    "Let's start by importing the required libraries."
   ]
  },
  {
   "cell_type": "code",
   "execution_count": 1,
   "metadata": {},
   "outputs": [],
   "source": [
    "import ufedmm\n",
    "from simtk import openmm, unit\n",
    "from sys import stdout"
   ]
  },
  {
   "cell_type": "markdown",
   "metadata": {},
   "source": [
    "The simulated system will be alanine dipeptide in vaccum."
   ]
  },
  {
   "cell_type": "code",
   "execution_count": 2,
   "metadata": {},
   "outputs": [],
   "source": [
    "model = ufedmm.AlanineDipeptideModel(force_field='amber99sb')"
   ]
  },
  {
   "cell_type": "markdown",
   "metadata": {},
   "source": [
    "This model contains a `System` object with a number of `Force` objects in it. Let's check it out."
   ]
  },
  {
   "cell_type": "code",
   "execution_count": 3,
   "metadata": {
    "scrolled": true
   },
   "outputs": [
    {
     "name": "stdout",
     "output_type": "stream",
     "text": [
      "0 HarmonicBondForce 0\n",
      "1 HarmonicAngleForce 0\n",
      "2 PeriodicTorsionForce 0\n",
      "3 NonbondedForce 0\n"
     ]
    }
   ],
   "source": [
    "for index, force in enumerate(model.system.getForces()):\n",
    "    print(index, force.__class__.__name__, force.getForceGroup())"
   ]
  },
  {
   "cell_type": "markdown",
   "metadata": {},
   "source": [
    "### Force Splitting\n",
    "\n",
    "Two tasks are required here:\n",
    "1. Allocate the forces above to distinct force groups according to their characteristic time scales.\n",
    "1. Move the 1-4 exceptions from the `NonbondedForce` to a new force and allocate it to the same group as `PeriodicTorsionForce`.\n",
    "\n",
    "We start by leaving `HarmonicBondForce` and `HarmonicAngleForce` in group `0`, moving `PeriodicTorsionForce` to group `1`, and moving `NonbondedForce` to group `2`."
   ]
  },
  {
   "cell_type": "code",
   "execution_count": 4,
   "metadata": {},
   "outputs": [],
   "source": [
    "model.system.getForce(2).setForceGroup(1)\n",
    "model.system.getForce(3).setForceGroup(2)"
   ]
  },
  {
   "cell_type": "markdown",
   "metadata": {},
   "source": [
    "Then, we create a `CustomBondForce` object with a Lennard-Jones + Coulomb potential."
   ]
  },
  {
   "cell_type": "code",
   "execution_count": 5,
   "metadata": {},
   "outputs": [],
   "source": [
    "exceptions = openmm.CustomBondForce('4*epsilon*((sigma/r)^12-(sigma/r)^6) + Kc*chargeprod/r')\n",
    "exceptions.addGlobalParameter('Kc', 138.935456)\n",
    "for parameter in ['chargeprod', 'sigma', 'epsilon']:\n",
    "    exceptions.addPerBondParameter(parameter)"
   ]
  },
  {
   "cell_type": "markdown",
   "metadata": {},
   "source": [
    "We are now ready to search for non-exclusion exceptions registered in `NonbondedForce`, add them to the created `CustomBondForce` as new bonds, and turn them into exclusion exceptions."
   ]
  },
  {
   "cell_type": "code",
   "execution_count": 6,
   "metadata": {},
   "outputs": [],
   "source": [
    "nonbonded = model.system.getForce(3)\n",
    "for index in range(nonbonded.getNumExceptions()):\n",
    "    i, j, chargeprod, sigma, epsilon = nonbonded.getExceptionParameters(index)\n",
    "    if epsilon/epsilon.unit != 0.0 or chargeprod/chargeprod.unit != 0:\n",
    "        exceptions.addBond(i, j, [chargeprod, sigma, epsilon])\n",
    "        nonbonded.setExceptionParameters(index, i, j, 0.0, 1.0, 0.0)"
   ]
  },
  {
   "cell_type": "markdown",
   "metadata": {},
   "source": [
    "Finally, we can add the new `CustomBondForce` to the system and allocate it to force group 1."
   ]
  },
  {
   "cell_type": "code",
   "execution_count": 7,
   "metadata": {},
   "outputs": [],
   "source": [
    "index = model.system.addForce(exceptions)\n",
    "model.system.getForce(index).setForceGroup(1)"
   ]
  },
  {
   "cell_type": "markdown",
   "metadata": {},
   "source": [
    "Let's check the system forces again."
   ]
  },
  {
   "cell_type": "code",
   "execution_count": 8,
   "metadata": {},
   "outputs": [
    {
     "name": "stdout",
     "output_type": "stream",
     "text": [
      "0 HarmonicBondForce 0\n",
      "1 HarmonicAngleForce 0\n",
      "2 PeriodicTorsionForce 1\n",
      "3 NonbondedForce 2\n",
      "4 CustomBondForce 1\n"
     ]
    }
   ],
   "source": [
    "for index, force in enumerate(model.system.getForces()):\n",
    "    print(index, force.__class__.__name__, force.getForceGroup())"
   ]
  },
  {
   "cell_type": "markdown",
   "metadata": {},
   "source": [
    "### Integrator Setup\n",
    "\n",
    "Now it's is time to create our integrator.\n",
    "It will consist of Nosé-Hoover thermostat chains massively attached to all degrees of freedom, with:\n",
    "* temperature T = 300 K\n",
    "* characteristic time $\\tau$ = 100 fs\n",
    "* time step size $\\Delta t$ = 4 fs\n",
    "* two thermostats per chain\n",
    "* RESPA-like splitting of the thermostat propagator (n=4)"
   ]
  },
  {
   "cell_type": "code",
   "execution_count": 9,
   "metadata": {},
   "outputs": [],
   "source": [
    "integrator = ufedmm.integrators.MiddleMassiveNHCIntegrator(\n",
    "    300*unit.kelvin, 100*unit.femtoseconds, 4*unit.femtoseconds, nchain=2, bath_loops=4, respa_loops=[5, 4, 1],\n",
    ")"
   ]
  },
  {
   "cell_type": "markdown",
   "metadata": {},
   "source": [
    "The keyword argument `respa_loop = [5, 4, 1]` means that each overall time step consists of `1` step at scale 2, which in turn involves `4` substeps at scale 1, each of which involves `5` substeps at scale 0.\n",
    "With the overall size $\\Delta t$ = 4 fs, such nesting hiearchy results in the time step sizes specified in the beginning.\n",
    "\n",
    "Let's examine the computations involved in each integration time step."
   ]
  },
  {
   "cell_type": "code",
   "execution_count": 10,
   "metadata": {},
   "outputs": [
    {
     "name": "stdout",
     "output_type": "stream",
     "text": [
      "Per-dof variables:\n",
      "  kT, Q, invQ, v1, v2\n",
      "Global variables:\n",
      "  irespa0 = 0.0\n",
      "  irespa1 = 0.0\n",
      "  ibath = 0.0\n",
      "Computation steps:\n",
      "   0: allow forces to update the context state\n",
      "   1: v <- v + 0.5*dt*f2/m\n",
      "   2: irespa1 <- 0\n",
      "   3: while (irespa1 < 3.5):\n",
      "   4:    v <- v + 0.125*dt*f1/m\n",
      "   5:    irespa0 <- 0\n",
      "   6:    while (irespa0 < 4.5):\n",
      "   7:       v <- v + 0.025*dt*f0/m\n",
      "   8:       x <- x + 0.025*dt*v\n",
      "   9:       ibath <- 0\n",
      "  10:       while (ibath < 3.5):\n",
      "  11:          v2 <- v2 + 0.00625*dt*(Q*v1^2 - kT)*invQ\n",
      "  12:          v1 <- (v1*z + 0.00625*dt*(m*v^2 - kT)*invQ)*z; z=exp(-0.003125*dt*v2)\n",
      "  13:          v <- v*exp(-0.0125*dt*v1)\n",
      "  14:          v1 <- (v1*z + 0.00625*dt*(m*v^2 - kT)*invQ)*z; z=exp(-0.003125*dt*v2)\n",
      "  15:          v2 <- v2 + 0.00625*dt*(Q*v1^2 - kT)*invQ\n",
      "  16:          ibath <- ibath + 1\n",
      "  17:       end\n",
      "  18:       x <- x + 0.025*dt*v\n",
      "  19:       v <- v + 0.025*dt*f0/m\n",
      "  20:       irespa0 <- irespa0 + 1\n",
      "  21:    end\n",
      "  22:    v <- v + 0.125*dt*f1/m\n",
      "  23:    irespa1 <- irespa1 + 1\n",
      "  24: end\n",
      "  25: v <- v + 0.5*dt*f2/m\n"
     ]
    }
   ],
   "source": [
    "print(integrator)"
   ]
  },
  {
   "cell_type": "markdown",
   "metadata": {},
   "source": [
    "It is interesting to notice the middle-type integration scheme, in which the thermostats are evaluated at the innermost loop and in-between two half-step coordinate translations.\n",
    "\n",
    "### UFED Simulation\n",
    "\n",
    "Finally, we can use this integrator to carry out an UFED simulation."
   ]
  },
  {
   "cell_type": "code",
   "execution_count": 11,
   "metadata": {},
   "outputs": [
    {
     "name": "stdout",
     "output_type": "stream",
     "text": [
      "#\"Step\",\"s_phi\",\"phi\",\"s_psi\",\"psi\"\n",
      "100,-2.910061634026219,-2.892413608360595,-2.8883088201264675,-2.9432748361539094\n",
      "200,-2.6804955545691405,-2.772689584513992,-2.837863750233378,-2.7098472262221813\n",
      "300,-2.4774450578870844,-2.524267565860009,-2.5833364532011736,-2.640238752762247\n",
      "400,-2.2181624287666653,-2.231767776657142,-2.605940754206454,-2.591803110727586\n",
      "500,-1.9687668047264308,-1.9794471043083992,-2.8739627944586195,-2.8507318917590987\n",
      "600,-1.7238323617997302,-1.653137108208567,-3.0986867322599085,-3.0620259451753657\n",
      "700,-1.475278107206018,-1.4924902410370733,2.958374137659564,2.9700232813593397\n",
      "800,-1.2103832773993992,-1.286298221181421,2.705017966067925,2.6564776144667497\n",
      "900,-1.0716869925081816,-1.1543422495178521,2.4519205482621107,2.49948578764374\n",
      "1000,-0.8471193626776552,-0.8439048107771155,2.220348280048448,2.2168469923217127\n"
     ]
    }
   ],
   "source": [
    "mass = 30*unit.dalton*(unit.nanometer/unit.radians)**2\n",
    "Ks = 1000*unit.kilojoules_per_mole/unit.radians**2\n",
    "Ts = 1500*unit.kelvin\n",
    "limit = 180*unit.degrees\n",
    "sigma = 18*unit.degrees\n",
    "s_phi = ufedmm.DynamicalVariable('s_phi', -limit, limit, mass, Ts, model.phi, Ks, sigma=sigma)\n",
    "s_psi = ufedmm.DynamicalVariable('s_psi', -limit, limit, mass, Ts, model.psi, Ks, sigma=sigma)\n",
    "ufed = ufedmm.UnifiedFreeEnergyDynamics([s_phi, s_psi], 300*unit.kelvin, 2.0*unit.kilojoules_per_mole, 200)\n",
    "simulation = ufed.simulation(model.topology, model.system, integrator)\n",
    "simulation.context.setPositions(model.positions)\n",
    "simulation.context.setVelocitiesToTemperature(300*unit.kelvin, 1234)\n",
    "simulation.reporters.append(ufedmm.StateDataReporter(stdout, 100, step=True, variables=True))\n",
    "simulation.step(1000)"
   ]
  }
 ],
 "metadata": {
  "kernelspec": {
   "display_name": "Python 3",
   "language": "python",
   "name": "python3"
  },
  "language_info": {
   "codemirror_mode": {
    "name": "ipython",
    "version": 3
   },
   "file_extension": ".py",
   "mimetype": "text/x-python",
   "name": "python",
   "nbconvert_exporter": "python",
   "pygments_lexer": "ipython3",
   "version": "3.7.6"
  }
 },
 "nbformat": 4,
 "nbformat_minor": 4
}

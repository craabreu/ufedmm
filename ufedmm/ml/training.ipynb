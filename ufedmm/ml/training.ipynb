{
 "cells": [
  {
   "cell_type": "code",
   "execution_count": null,
   "metadata": {},
   "outputs": [],
   "source": [
    "from pytorch_lightning.loggers import NeptuneLogger\n",
    "\n",
    "run = NeptuneLogger(\n",
    "    project=\"andreasm/ufed\",\n",
    "    api_token=\"eyJhcGlfYWRkcmVzcyI6Imh0dHBzOi8vYXBwLm5lcHR1bmUuYWkiLCJhcGlfdXJsIjoiaHR0cHM6Ly9hcHAubmVwdHVuZS5haSIsImFwaV9rZXkiOiI4NTVlOWQ1ZS0xMjQwLTRlZTktYjllMC0wZmI0ODBhYjA2MGMifQ==\",\n",
    "     log_model_checkpoints=False\n",
    ")  # your credentials"
   ]
  },
  {
   "cell_type": "code",
   "execution_count": null,
   "metadata": {},
   "outputs": [],
   "source": [
    "from network import FE_network\n",
    "from model import Estimator\n",
    "from dataset import Dataset\n",
    "from torch.utils.data import DataLoader, random_split\n",
    "import torch\n",
    "import pytorch_lightning as pl\n",
    "from pytorch_lightning.callbacks.early_stopping import EarlyStopping"
   ]
  },
  {
   "cell_type": "code",
   "execution_count": null,
   "metadata": {},
   "outputs": [],
   "source": [
    "dataset = Dataset('./output_with_forces.csv', ['phi', 'psi'], ['F_phi', 'F_psi'])\n",
    "\n",
    "\n",
    "# use_mean = False\n",
    "weight_decay=0.0\n",
    "spectral_norm = False  \n",
    "learning_rate = 0.001\n",
    "\n",
    "# updates = 100000\n",
    "batch_size = 256\n",
    "input_dim = dataset.cvs.shape[1]\n",
    "width = 50\n",
    "depths = 5\n",
    "acti = 'Softplus' # 'Silu', 'Softplus'\n",
    "valid_ratio = 0.2\n",
    "spectral_norm = False\n",
    "patience=20\n",
    "max_epochs = 100\n",
    "\n",
    "\n",
    "# mean = None\n",
    "# std = None\n",
    "# mean_force=None\n",
    "# std_force = None\n",
    "net  = FE_network(input_dim, width, depths, acti, spectral_norm) # mean, std, mean_force, std_force)\n",
    "\n",
    "accelerator = 'gpu' if torch.cuda.is_available() else 'cpu'\n",
    "model = Estimator(net, run, accelerator=accelerator, weight_decay=weight_decay, lr=learning_rate)\n",
    "# if use_mean:\n",
    "#     forces_pred = model.net.forward(torch.Tensor(dataset.cvs)).detach().cpu().numpy()\n",
    "#     mean_force = torch.Tensor(forces_pred.mean(axis=0, keepdims=True))\n",
    "#     std_force = torch.Tensor(forces_pred.std(axis=0, keepdims=True))\n",
    "#     net.whitening_layer_model.set_both(mean_force, std_force)\n",
    "#     net.whitening_layer_output.set_both(torch.Tensor(dataset.force_mean), torch.Tensor(dataset.force_std))\n",
    "\n",
    "n_val = int(len(dataset)*valid_ratio)\n",
    "\n",
    "train_data, val_data = random_split(dataset, [len(dataset) - n_val, n_val])\n",
    "\n",
    "loader_train = DataLoader(train_data, batch_size=batch_size, shuffle=True, \n",
    "                            # num_workers=0, \n",
    "                            # prefetch_factor=2\n",
    "                            )\n",
    "loader_val = DataLoader(dataset, batch_size=len(dataset), shuffle=False)\n",
    "# max_epochs = updates // len(loader_train) + 1\n",
    "trainer = pl.Trainer(accelerator=accelerator, logger=model.neptune_logger, max_epochs=max_epochs)\n",
    "# trainer.callbacks += [EarlyStopping(monitor=\"val_loss\", mode=\"min\", patience=patience)] \n",
    "trainer.fit(model, loader_train, loader_val)"
   ]
  },
  {
   "cell_type": "code",
   "execution_count": null,
   "metadata": {},
   "outputs": [],
   "source": [
    "loader_train = DataLoader(train_data, batch_size=len(train_data), shuffle=True, \n",
    "                            # num_workers=0, \n",
    "                            # prefetch_factor=2\n",
    "                            )\n",
    "loader_val = DataLoader(val_data, batch_size=len(val_data), shuffle=False)\n",
    "updates = 20\n",
    "max_epochs = updates // len(loader_train) + 1\n",
    "# model.set_learning_rate(0.01)\n",
    "trainer = pl.Trainer(accelerator=accelerator, logger=model.neptune_logger, max_epochs=max_epochs)\n",
    "# trainer.callbacks += [EarlyStopping(monitor=\"val_loss\", mode=\"min\", patience=patience)] \n",
    "trainer.fit(model, loader_train, loader_val)"
   ]
  },
  {
   "cell_type": "code",
   "execution_count": null,
   "metadata": {},
   "outputs": [],
   "source": [
    "# plot free energy\n",
    "import matplotlib.pyplot as plt\n",
    "import numpy as np\n",
    "from scipy.interpolate import griddata\n",
    "from matplotlib import cm\n",
    "from matplotlib.ticker import LinearLocator, FormatStrFormatter\n",
    "\n",
    "# create grid on dihedral angles\n",
    "phi = np.linspace(-np.pi, np.pi, 100)\n",
    "psi = np.linspace(-np.pi, np.pi, 100)\n",
    "phi, psi = np.meshgrid(phi, psi)\n",
    "phi = phi.flatten()\n",
    "psi = psi.flatten()\n",
    "grid = np.vstack((phi, psi)).T\n",
    "print(grid.shape)"
   ]
  },
  {
   "cell_type": "code",
   "execution_count": null,
   "metadata": {},
   "outputs": [],
   "source": [
    "# compute free energy\n",
    "with torch.no_grad():\n",
    "    grid = torch.Tensor(grid)\n",
    "    grid = grid.to(model.device)\n",
    "    F = model.net.predict(grid)\n",
    "    F = F.cpu().numpy()"
   ]
  },
  {
   "cell_type": "code",
   "execution_count": null,
   "metadata": {},
   "outputs": [],
   "source": [
    "F = F.reshape(100, 100)\n",
    "print(F.max()- F.min())"
   ]
  },
  {
   "cell_type": "code",
   "execution_count": null,
   "metadata": {},
   "outputs": [],
   "source": [
    "plt.imshow(F, extent=[-np.pi, np.pi, -np.pi, np.pi], cmap=cm.viridis, origin='lower')"
   ]
  }
 ],
 "metadata": {
  "kernelspec": {
   "display_name": "rs",
   "language": "python",
   "name": "python3"
  },
  "language_info": {
   "codemirror_mode": {
    "name": "ipython",
    "version": 3
   },
   "file_extension": ".py",
   "mimetype": "text/x-python",
   "name": "python",
   "nbconvert_exporter": "python",
   "pygments_lexer": "ipython3",
   "version": "3.8.16"
  },
  "orig_nbformat": 4
 },
 "nbformat": 4,
 "nbformat_minor": 2
}

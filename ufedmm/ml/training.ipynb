{
 "cells": [
  {
   "cell_type": "code",
   "execution_count": null,
   "metadata": {},
   "outputs": [],
   "source": [
    "from pytorch_lightning.loggers import NeptuneLogger\n",
    "\n",
    "run = NeptuneLogger(\n",
    "    project=\"andreasm/ufed\",\n",
    "    api_token=\"eyJhcGlfYWRkcmVzcyI6Imh0dHBzOi8vYXBwLm5lcHR1bmUuYWkiLCJhcGlfdXJsIjoiaHR0cHM6Ly9hcHAubmVwdHVuZS5haSIsImFwaV9rZXkiOiI4NTVlOWQ1ZS0xMjQwLTRlZTktYjllMC0wZmI0ODBhYjA2MGMifQ==\",\n",
    "     log_model_checkpoints=False\n",
    ")  # your credentials"
   ]
  },
  {
   "cell_type": "code",
   "execution_count": null,
   "metadata": {},
   "outputs": [],
   "source": [
    "from network import FE_network\n",
    "from model import Estimator\n",
    "from dataset import Dataset\n",
    "from torch.utils.data import DataLoader, random_split\n",
    "import torch\n",
    "import pytorch_lightning as pl\n",
    "from pytorch_lightning.callbacks.early_stopping import EarlyStopping"
   ]
  },
  {
   "cell_type": "code",
   "execution_count": null,
   "metadata": {},
   "outputs": [],
   "source": [
    "import pandas as pd\n",
    "pd.read_csv('./output_with_forces.csv').head()"
   ]
  },
  {
   "cell_type": "code",
   "execution_count": null,
   "metadata": {},
   "outputs": [],
   "source": [
    "dataset = Dataset('./output_with_forces.csv', ['omega', 'phi', 'psi'], ['F_omega', 'F_phi', 'F_psi'])\n",
    "\n",
    "\n",
    "# use_mean = False\n",
    "weight_decay=0.01\n",
    "spectral_norm = False  \n",
    "learning_rate = 0.001\n",
    "\n",
    "# updates = 100000\n",
    "batch_size = 256\n",
    "input_dim = dataset.cvs.shape[1]\n",
    "width = 50\n",
    "depths = 5\n",
    "acti = 'Softplus' # 'Silu', 'Softplus'\n",
    "valid_ratio = 0.001\n",
    "spectral_norm = False\n",
    "patience=20\n",
    "max_epochs = 100\n",
    "\n",
    "\n",
    "# mean = None\n",
    "# std = None\n",
    "# mean_force=None\n",
    "# std_force = None\n",
    "net  = FE_network(input_dim, width, depths, acti, spectral_norm) # mean, std, mean_force, std_force)\n",
    "\n",
    "accelerator = 'gpu' if torch.cuda.is_available() else 'cpu'\n",
    "model = Estimator(net, run, accelerator=accelerator, weight_decay=weight_decay, lr=learning_rate)\n",
    "# if use_mean:\n",
    "#     forces_pred = model.net.forward(torch.Tensor(dataset.cvs)).detach().cpu().numpy()\n",
    "#     mean_force = torch.Tensor(forces_pred.mean(axis=0, keepdims=True))\n",
    "#     std_force = torch.Tensor(forces_pred.std(axis=0, keepdims=True))\n",
    "#     net.whitening_layer_model.set_both(mean_force, std_force)\n",
    "#     net.whitening_layer_output.set_both(torch.Tensor(dataset.force_mean), torch.Tensor(dataset.force_std))\n",
    "\n",
    "n_val = int(len(dataset)*valid_ratio)\n",
    "\n",
    "train_data, val_data = random_split(dataset, [len(dataset) - n_val, n_val])\n",
    "\n",
    "loader_train = DataLoader(train_data, batch_size=batch_size, shuffle=True, \n",
    "                            # num_workers=0, \n",
    "                            # prefetch_factor=2\n",
    "                            )\n",
    "loader_val = DataLoader(dataset, batch_size=len(dataset), shuffle=False)\n",
    "# max_epochs = updates // len(loader_train) + 1\n",
    "trainer = pl.Trainer(accelerator=accelerator, logger=model.neptune_logger, max_epochs=max_epochs)\n",
    "# trainer.callbacks += [EarlyStopping(monitor=\"val_loss\", mode=\"min\", patience=patience)] \n",
    "trainer.fit(model, loader_train, loader_val)"
   ]
  },
  {
   "cell_type": "code",
   "execution_count": null,
   "metadata": {},
   "outputs": [],
   "source": [
    "loader_train = DataLoader(train_data, batch_size=len(train_data), shuffle=True, \n",
    "                            # num_workers=0, \n",
    "                            # prefetch_factor=2\n",
    "                            )\n",
    "loader_val = DataLoader(val_data, batch_size=len(val_data), shuffle=False)\n",
    "updates = 20\n",
    "max_epochs = updates // len(loader_train) + 1\n",
    "# model.set_learning_rate(0.01)\n",
    "trainer = pl.Trainer(accelerator=accelerator, logger=model.neptune_logger, max_epochs=max_epochs)\n",
    "# trainer.callbacks += [EarlyStopping(monitor=\"val_loss\", mode=\"min\", patience=patience)] \n",
    "trainer.fit(model, loader_train, loader_val)"
   ]
  },
  {
   "cell_type": "code",
   "execution_count": null,
   "metadata": {},
   "outputs": [],
   "source": [
    "# plot free energy\n",
    "import matplotlib.pyplot as plt\n",
    "import numpy as np\n",
    "from scipy.interpolate import griddata\n",
    "from matplotlib import cm\n",
    "from matplotlib.ticker import LinearLocator, FormatStrFormatter\n",
    "\n",
    "bins = 200\n",
    "\n",
    "# create grid on dihedral angles\n",
    "omega = np.linspace(-np.pi, np.pi, bins)\n",
    "phi = np.linspace(-np.pi, np.pi, bins)\n",
    "psi = np.linspace(-np.pi, np.pi, bins)\n",
    "omega, phi, psi = np.meshgrid(omega, phi, psi)\n",
    "omega = omega.flatten()\n",
    "phi = phi.flatten()\n",
    "psi = psi.flatten()\n",
    "grid = np.vstack((omega, phi, psi)).T\n",
    "print(grid.shape)"
   ]
  },
  {
   "cell_type": "code",
   "execution_count": null,
   "metadata": {},
   "outputs": [],
   "source": [
    "# compute free energy\n",
    "with torch.no_grad():\n",
    "    grid = torch.Tensor(grid)\n",
    "    grid = grid.to(model.device)\n",
    "    F = model.net.predict(grid)\n",
    "    F = F.cpu().numpy()"
   ]
  },
  {
   "cell_type": "code",
   "execution_count": null,
   "metadata": {},
   "outputs": [],
   "source": [
    "F = F.reshape(bins, bins, bins)\n",
    "F = F - F.min()\n",
    "print(F.max()- F.min())"
   ]
  },
  {
   "cell_type": "code",
   "execution_count": null,
   "metadata": {},
   "outputs": [],
   "source": [
    "reference_frame = np.array([5, 5, 5])\n",
    "plt.imshow(F[:,:,reference_frame[2]], extent=[-np.pi, np.pi, -np.pi, np.pi], cmap=cm.viridis, origin='lower')\n",
    "plt.show()\n",
    "plt.imshow(F[:,reference_frame[1],:], extent=[-np.pi, np.pi, -np.pi, np.pi], cmap=cm.viridis, origin='lower')\n",
    "plt.show()\n",
    "plt.imshow(F[reference_frame[0],:,:], extent=[-np.pi, np.pi, -np.pi, np.pi], cmap=cm.viridis, origin='lower')\n",
    "plt.show()"
   ]
  },
  {
   "cell_type": "code",
   "execution_count": null,
   "metadata": {},
   "outputs": [],
   "source": [
    "def proj(F, axis=(0)):\n",
    "    # first estimate probs from FES\n",
    "    T = 300\n",
    "    beta = 1/(T*8.31446261815324e-3) # kJ/mol\n",
    "    p = np.exp(-beta* F)\n",
    "    p = p / p.sum()\n",
    "    # now sum over defined axis\n",
    "    p = p.sum(axis=axis)\n",
    "    # now estiamte free energy\n",
    "    F_proj = -np.log(p)/beta\n",
    "    F_proj = F_proj - F_proj.min()\n",
    "    return F_proj"
   ]
  },
  {
   "cell_type": "code",
   "execution_count": null,
   "metadata": {},
   "outputs": [],
   "source": [
    "F.shape"
   ]
  },
  {
   "cell_type": "code",
   "execution_count": null,
   "metadata": {},
   "outputs": [],
   "source": [
    "x_labels = [r'$\\phi$', r'$\\omega$', r'$\\omega$']\n",
    "y_labels = [r'$\\psi$', r'$\\psi$', r'$\\phi$']\n",
    "for i in range(3):\n",
    "    plt.imshow(proj(F, axis=(i)), extent=[-np.pi, np.pi, -np.pi, np.pi], cmap=cm.viridis, origin='lower')\n",
    "    plt.xlabel(x_labels[i], fontsize=16)\n",
    "    plt.ylabel(y_labels[i], fontsize=16)\n",
    "    plt.show()"
   ]
  },
  {
   "cell_type": "code",
   "execution_count": null,
   "metadata": {},
   "outputs": [],
   "source": [
    "reestimate_fe = True\n",
    "if reestimate_fe:\n",
    "    import ufedmm\n",
    "    import pandas as pd\n",
    "    nbins_fit = 10\n",
    "    factor = 8\n",
    "\n",
    "    platform = 'CPU'\n",
    "    ufed = ufedmm.deserialize('ufed_object.yml')\n",
    "    df = pd.read_csv('output.csv')\n",
    "\n",
    "    print(df[['T[atoms] (K)'] + [f'T[{v.id}] (K)' for v in ufed.variables]].mean())\n",
    "\n",
    "    analyzer = ufedmm.FreeEnergyAnalyzer(ufed, df)\n",
    "\n",
    "    centers, mean_forces = analyzer.centers_and_mean_forces(nbins_fit)\n",
    "\n",
    "    delta = 2*np.pi/nbins_fit\n",
    "    properties = {'Precision': 'mixed'} if platform == 'CUDA' else {}\n",
    "    potential, mean_force = analyzer.mean_force_free_energy(\n",
    "        centers, mean_forces, sigma=factor*delta, platform_name=platform, properties=properties,\n",
    "    )\n",
    "\n",
    "    ranges = [(cv.min_value, cv.max_value) for cv in ufed.variables]\n",
    "    x = [np.linspace(*range, num=bins) for range in ranges]\n",
    "    X = np.meshgrid(*x)\n",
    "    Z = potential(*X)\n",
    "    fe = Z-Z.min()\n",
    "\n",
    "    # def in_degrees(angles):\n",
    "    #     return [180*angle/np.pi for angle in angles]\n",
    "    # plt.clf()\n",
    "    # fig, ax = plt.subplots()\n",
    "    # cmap = plt.get_cmap('jet')\n",
    "    # extent = in_degrees([item for sublist in ranges for item in sublist])\n",
    "    # ax.imshow(fe, extent=extent, cmap=cmap, interpolation='spline36', origin='lower', zorder=0)\n",
    "    # ax.contour(*in_degrees(x), fe, 20, cmap=cmap, linewidths=0.5, zorder=10)\n",
    "    # ax.quiver(*in_degrees(centers), *mean_forces, zorder=20)\n",
    "    # plt.savefig('figure.png')\n",
    "    np.save('fe_true.npy', fe)\n",
    "    plt.show()\n",
    "else:\n",
    "    fe = np.load('fe_true.npy')"
   ]
  },
  {
   "cell_type": "code",
   "execution_count": null,
   "metadata": {},
   "outputs": [],
   "source": [
    "F.max(), F.min(), F.max()-F.min()"
   ]
  },
  {
   "cell_type": "code",
   "execution_count": null,
   "metadata": {},
   "outputs": [],
   "source": [
    "fe.max(), fe.min(), fe.max()-fe.min()"
   ]
  },
  {
   "cell_type": "code",
   "execution_count": null,
   "metadata": {},
   "outputs": [],
   "source": [
    "def diff_fe(fe1, fe2, cutoff=80, plot=False):\n",
    "    fe1 = fe1 - fe1.min()\n",
    "    fe2 = fe2 - fe2.min()\n",
    "    mask1 = fe1 < cutoff \n",
    "    mask2 = fe2 < cutoff\n",
    "    mask = mask1 & mask2\n",
    "    mean_fe1 = fe1[mask].mean()\n",
    "    mean_fe2 = fe2[mask].mean()\n",
    "    fe1_mean_free = fe1 - mean_fe1\n",
    "    fe2_mean_free = fe2 - mean_fe2\n",
    "    if plot:\n",
    "        plt.imshow(fe1_mean_free - fe2_mean_free, extent=[-np.pi, np.pi, -np.pi, np.pi], cmap=cm.viridis, origin='lower')\n",
    "        plt.colorbar()\n",
    "        plt.show()\n",
    "    diff = np.linalg.norm(fe1_mean_free[mask] - fe2_mean_free[mask]) / np.sqrt(mask.sum())\n",
    "    return diff"
   ]
  },
  {
   "cell_type": "code",
   "execution_count": null,
   "metadata": {},
   "outputs": [],
   "source": [
    "print(diff_fe(fe, F, cutoff=80, plot=False))"
   ]
  },
  {
   "cell_type": "code",
   "execution_count": null,
   "metadata": {},
   "outputs": [],
   "source": [
    "import numpy as np\n",
    "import matplotlib.pyplot as plt\n",
    "plt.switch_backend('tkagg')\n",
    "from matplotlib.widgets import Slider, Button\n",
    "from matplotlib import cm\n",
    "\n",
    "\n",
    "bins=100\n",
    "F = np.random.randn(bins,bins,bins)\n",
    "\n",
    "# The parametrized function to be plotted\n",
    "def f(omega):\n",
    "    return F[omega, :, :]\n",
    "\n",
    "# Define initial parameters\n",
    "init_omega = 0\n",
    "# Create the figure and the line that we will manipulate\n",
    "fig, ax = plt.subplots()\n",
    "line = ax.imshow(f(init_omega), extent=[-np.pi, np.pi, -np.pi, np.pi], cmap=cm.viridis, origin='lower')\n",
    "# ax.set_xlabel('Time [s]')\n",
    "\n",
    "# adjust the main plot to make room for the sliders\n",
    "fig.subplots_adjust(bottom=0.25)\n",
    "\n",
    "# Make a horizontal slider to control the frequency.\n",
    "\n",
    "axfreq = fig.add_axes([0.25, 0.1, 0.65, 0.03])\n",
    "omega_slider = Slider(\n",
    "    ax=axfreq,\n",
    "    label='Omega',\n",
    "    valmin=0,\n",
    "    valmax=bins-1,\n",
    "    valinit=init_omega,\n",
    "    valstep=np.arange(bins),\n",
    ")\n",
    "\n",
    "\n",
    "# The function to be called anytime a slider's value changes\n",
    "def update(val):\n",
    "    line.set_ydata(f(omega_slider.val))\n",
    "    fig.canvas.draw_idle()\n",
    "\n",
    "\n",
    "# register the update function with each slider\n",
    "omega_slider.on_changed(update)\n",
    "\n",
    "# Create a `matplotlib.widgets.Button` to reset the sliders to initial values.\n",
    "resetax = fig.add_axes([0.8, 0.025, 0.1, 0.04])\n",
    "button = Button(resetax, 'Reset', hovercolor='0.975')\n",
    "\n",
    "\n",
    "def reset(event):\n",
    "    omega_slider.reset()\n",
    "button.on_clicked(reset)\n",
    "\n",
    "plt.show()"
   ]
  },
  {
   "cell_type": "code",
   "execution_count": null,
   "metadata": {},
   "outputs": [],
   "source": [
    "plt.imshow(diff, extent=[-np.pi, np.pi, -np.pi, np.pi], cmap=cm.viridis, origin='lower')\n",
    "plt.colorbar()\n",
    "plt.show()"
   ]
  },
  {
   "cell_type": "code",
   "execution_count": null,
   "metadata": {},
   "outputs": [],
   "source": [
    "forces_pred = model.net.forward(torch.Tensor(dataset.cvs))"
   ]
  },
  {
   "cell_type": "code",
   "execution_count": null,
   "metadata": {},
   "outputs": [],
   "source": [
    "# forces_pred_test = net.whitening_layer_output(forces_pred)"
   ]
  },
  {
   "cell_type": "code",
   "execution_count": null,
   "metadata": {},
   "outputs": [],
   "source": [
    "forces_pred[1], forces_pred.mean(0), forces_pred.std(0), dataset.force_mean, dataset.force_std"
   ]
  },
  {
   "cell_type": "code",
   "execution_count": null,
   "metadata": {},
   "outputs": [],
   "source": [
    "net.whitening_layer_output.set_both(mean_force, std_force)"
   ]
  },
  {
   "cell_type": "code",
   "execution_count": null,
   "metadata": {},
   "outputs": [],
   "source": [
    "forces_pred[1], forces_pred_test[1]"
   ]
  },
  {
   "cell_type": "code",
   "execution_count": null,
   "metadata": {},
   "outputs": [],
   "source": [
    "forces = dataset.forces"
   ]
  },
  {
   "cell_type": "code",
   "execution_count": null,
   "metadata": {},
   "outputs": [],
   "source": [
    "forces_pred = forces_pred.detach().cpu().numpy()\n",
    "plt.plot(forces_pred[:,0])"
   ]
  },
  {
   "cell_type": "code",
   "execution_count": null,
   "metadata": {},
   "outputs": [],
   "source": [
    "forces.mean(axis=0)"
   ]
  },
  {
   "cell_type": "code",
   "execution_count": null,
   "metadata": {},
   "outputs": [],
   "source": [
    "dataset.force_std"
   ]
  },
  {
   "cell_type": "code",
   "execution_count": null,
   "metadata": {},
   "outputs": [],
   "source": [
    "forces_mean_free = (forces - dataset.force_mean) / dataset.force_std"
   ]
  },
  {
   "cell_type": "code",
   "execution_count": null,
   "metadata": {},
   "outputs": [],
   "source": [
    "plt.plot(forces_mean_free[::100,1])"
   ]
  },
  {
   "cell_type": "code",
   "execution_count": null,
   "metadata": {},
   "outputs": [],
   "source": [
    "plt.plot(dataset.cvs[::100,1])"
   ]
  },
  {
   "cell_type": "code",
   "execution_count": null,
   "metadata": {},
   "outputs": [],
   "source": [
    "import pandas as pd\n",
    "df = pd.read_csv('./output_with_forces.csv')"
   ]
  },
  {
   "cell_type": "code",
   "execution_count": null,
   "metadata": {},
   "outputs": [],
   "source": [
    "df"
   ]
  },
  {
   "cell_type": "code",
   "execution_count": null,
   "metadata": {},
   "outputs": [],
   "source": []
  }
 ],
 "metadata": {
  "kernelspec": {
   "display_name": "Python 3 (ipykernel)",
   "language": "python",
   "name": "python3"
  },
  "language_info": {
   "codemirror_mode": {
    "name": "ipython",
    "version": 3
   },
   "file_extension": ".py",
   "mimetype": "text/x-python",
   "name": "python",
   "nbconvert_exporter": "python",
   "pygments_lexer": "ipython3",
   "version": "3.8.16"
  }
 },
 "nbformat": 4,
 "nbformat_minor": 2
}
